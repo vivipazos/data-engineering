{
 "metadata": {
  "language_info": {
   "codemirror_mode": {
    "name": "ipython",
    "version": 3
   },
   "file_extension": ".py",
   "mimetype": "text/x-python",
   "name": "python",
   "nbconvert_exporter": "python",
   "pygments_lexer": "ipython3",
   "version": "3.8.3-final"
  },
  "orig_nbformat": 2,
  "kernelspec": {
   "name": "Python 3.8.3 64-bit ('anaconda3': virtualenv)",
   "display_name": "Python 3.8.3 64-bit ('anaconda3': virtualenv)",
   "metadata": {
    "interpreter": {
     "hash": "dca0ade3e726a953b501b15e8e990130d2b7799f14cfd9f4271676035ebe5511"
    }
   }
  }
 },
 "nbformat": 4,
 "nbformat_minor": 2,
 "cells": [
  {
   "cell_type": "code",
   "execution_count": 8,
   "metadata": {},
   "outputs": [
    {
     "output_type": "stream",
     "name": "stdout",
     "text": [
      "(891, 15)\n(342, 15)\n"
     ]
    }
   ],
   "source": [
    "#load pandas\n",
    "import pandas as pd\n",
    "\n",
    "#read csv and set as variable 'df'\n",
    "df = pd.read_csv('titanic.csv')\n",
    "#original size is 891 rows, by 15 columns)\n",
    "print(df.shape)\n",
    "\n",
    "#create Boolean query for those who survived - dataset as binary which is 1\n",
    "is_survived = df['survived']==1 \n",
    "titanicSurviors = df[is_survived]\n",
    "\n",
    "#filtered is now #342, by 15 columns\n",
    "print(titanicSurviors.shape)\n",
    "\n",
    "#groupBy gender & age\n",
    "\n",
    "\n",
    "\n"
   ]
  },
  {
   "cell_type": "code",
   "execution_count": null,
   "metadata": {},
   "outputs": [],
   "source": []
  }
 ]
}