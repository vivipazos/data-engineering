{
 "metadata": {
  "language_info": {
   "codemirror_mode": {
    "name": "ipython",
    "version": 3
   },
   "file_extension": ".py",
   "mimetype": "text/x-python",
   "name": "python",
   "nbconvert_exporter": "python",
   "pygments_lexer": "ipython3",
   "version": "3.8.3-final"
  },
  "orig_nbformat": 2,
  "kernelspec": {
   "name": "Python 3.8.3 64-bit ('base': conda)",
   "display_name": "Python 3.8.3 64-bit ('base': conda)",
   "metadata": {
    "interpreter": {
     "hash": "dca0ade3e726a953b501b15e8e990130d2b7799f14cfd9f4271676035ebe5511"
    }
   }
  }
 },
 "nbformat": 4,
 "nbformat_minor": 2,
 "cells": [
  {
   "source": [
    "# Week 1: Import CSV with standard library\n",
    "\n",
    "<style type=\"text/css\">\n",
    ".border {\n",
    "    display: inline-block;\n",
    "    border: solid 1px rgba(204, 204, 204, 0.4);\n",
    "    border-bottom-color: rgba(187, 187, 187, 0.4);\n",
    "    border-radius: 3px;\n",
    "    box-shadow: inset 0 -1px 0 rgba(187, 187, 187, 0.4);\n",
    "    background-color: inherit !important;\n",
    "    vertical-align: middle;\n",
    "    color: inherit !important;\n",
    "    font-size: 11px;\n",
    "    padding: 3px 5px;\n",
    "    margin: 0 2px;\n",
    "        }\n",
    "</style>\n",
    "\n",
    "1. <p>Challenge 1: Print out times, places and magnitude of earthquakes that were 6 or higher.</p>\n",
    "\n",
    "2. <p>Challenge 2: List earthquakes that happend on '2016-08-04'</p>\n"
   ],
   "cell_type": "markdown",
   "metadata": {}
  },
  {
   "source": [
    "import csv    "
   ],
   "cell_type": "code",
   "metadata": {},
   "execution_count": 25,
   "outputs": []
  },
  {
   "source": [
    "#Challenge 1"
   ],
   "cell_type": "markdown",
   "metadata": {}
  },
  {
   "cell_type": "code",
   "execution_count": 33,
   "metadata": {
    "tags": []
   },
   "outputs": [
    {
     "output_type": "stream",
     "name": "stdout",
     "text": [
      "7.7 Northern Mariana Islands 2016-07-29 17:18:26\n6.1 South Indian Ocean 2016-08-01 03:42:50\n6.2 Argentina 2016-08-04 10:15:12\n6.3 Japan 2016-08-04 12:24:33\n7.2 New Caledonia 2016-08-11 21:26:35\n6.2 South of the Fiji Islands 2016-08-11 23:29:33\n7.4 South Georgia Island region 2016-08-19 03:32:22\n6.4 South Georgia Island region 2016-08-20 23:45:23\n6.2 Italy 2016-08-23 21:36:33\n6.8 Burma 2016-08-24 06:34:55\n"
     ]
    }
   ],
   "source": [
    "with open('earthquakes.csv', newline='') as csvfile:\n",
    "    reader = csv.reader(csvfile)\n",
    "    headers = reader.__next__()\n",
    "    #print(headers)\n",
    "    for row in reader:\n",
    "        #print(','.join(row))\n",
    "        magnitude = float(row[2])\n",
    "        location = row[9]\n",
    "        time = datetime.fromisoformat(row[12])\n",
    "        if magnitude > 6:\n",
    "            print(magnitude, location, time)"
   ]
  },
  {
   "source": [
    "#Challenge 2"
   ],
   "cell_type": "markdown",
   "metadata": {}
  },
  {
   "source": [
    "from datetime import datetime"
   ],
   "cell_type": "markdown",
   "metadata": {}
  },
  {
   "cell_type": "code",
   "execution_count": 98,
   "metadata": {
    "tags": []
   },
   "outputs": [
    {
     "output_type": "stream",
     "name": "stdout",
     "text": [
      "2016-08-04 00:01:38 California 0.95\n2016-08-04 00:02:28 Alaska 0.7\n2016-08-04 00:03:09 Hawaii 1.74\n2016-08-04 00:18:31 California 2.96\n2016-08-04 00:18:59 Alaska 1.2\n2016-08-04 00:19:19 California 1.15\n2016-08-04 00:22:00 California 0.69\n2016-08-04 00:22:46 Alaska 1.2\n2016-08-04 00:27:32 California 0.99\n2016-08-04 00:29:45 Alaska 2.0\n2016-08-04 00:33:11 Alaska 1.8\n2016-08-04 00:38:35 Hawaii 1.77\n2016-08-04 00:39:58 Alaska 2.7\n2016-08-04 00:44:29 California 0.8\n2016-08-04 00:45:41 California 0.62\n2016-08-04 00:48:13 Alaska 0.2\n2016-08-04 00:51:53 Utah 1.38\n2016-08-04 00:55:35 California 4.48\n2016-08-04 00:58:19 California 2.6\n2016-08-04 00:58:32 California 3.99\n2016-08-04 01:00:23 California 2.2\n2016-08-04 01:02:01 Alaska 0.8\n2016-08-04 01:02:37 California 1.58\n2016-08-04 01:03:57 California 1.1\n2016-08-04 01:04:09 California 1.2\n2016-08-04 01:05:01 California 1.0\n2016-08-04 01:06:02 California 1.0\n2016-08-04 01:06:29 California 1.0\n2016-08-04 01:06:41 California 1.0\n2016-08-04 01:07:03 California 1.0\n2016-08-04 01:09:07 California 1.63\n2016-08-04 01:11:34 California 2.8\n2016-08-04 01:13:40 California 0.59\n2016-08-04 01:13:55 Alaska 1.2\n2016-08-04 01:14:21 California 1.1\n2016-08-04 01:14:41 California 0.8\n2016-08-04 01:15:25 California 2.01\n2016-08-04 01:16:03 California 0.7\n2016-08-04 01:16:20 California 1.0\n2016-08-04 01:17:25 California 0.1\n2016-08-04 01:18:50 California 1.63\n2016-08-04 01:21:00 California 0.56\n2016-08-04 01:21:21 California 0.9\n2016-08-04 01:21:44 California 0.7\n2016-08-04 01:22:33 California 0.2\n2016-08-04 01:22:58 California 0.9\n2016-08-04 01:23:20 California 1.6\n2016-08-04 01:24:18 California 1.0\n2016-08-04 01:25:35 California 0.4\n2016-08-04 01:26:23 California 0.7\n2016-08-04 01:27:05 California 0.7\n2016-08-04 01:28:00 California 0.8\n2016-08-04 01:28:41 Alaska 2.1\n2016-08-04 01:28:47 California 0.6\n2016-08-04 01:29:07 Alaska 0.7\n2016-08-04 01:29:15 California 0.6\n2016-08-04 01:29:36 California 0.4\n2016-08-04 01:30:57 California 0.3\n2016-08-04 01:32:54 California 0.5\n2016-08-04 01:33:04 California 0.4\n2016-08-04 01:34:23 California 0.6\n2016-08-04 01:34:45 California 0.7\n2016-08-04 01:35:40 California 0.9\n2016-08-04 01:36:14 California 0.8\n2016-08-04 01:38:16 California 0.3\n2016-08-04 01:38:37 California 0.3\n2016-08-04 01:39:18 California 1.0\n2016-08-04 01:39:54 California 0.8\n2016-08-04 01:41:25 California 1.83\n2016-08-04 01:42:36 California 1.95\n2016-08-04 01:44:47 Alaska 1.3\n2016-08-04 01:45:07 California 2.49\n2016-08-04 01:49:17 California 0.6\n2016-08-04 01:49:51 California 1.78\n2016-08-04 01:50:44 California 0.5\n2016-08-04 01:51:36 California 0.1\n2016-08-04 01:53:00 California 1.16\n2016-08-04 01:53:29 California 0.3\n2016-08-04 01:54:35 Alaska 3.5\n2016-08-04 01:57:02 Nicaragua 4.8\n2016-08-04 01:59:03 California 1.6\n2016-08-04 02:01:42 California 0.7\n2016-08-04 02:02:59 California 0.3\n2016-08-04 02:06:00 Alaska 2.3\n2016-08-04 02:08:08 California 0.7\n2016-08-04 02:08:51 California 0.7\n2016-08-04 02:09:55 Alaska 1.3\n2016-08-04 02:10:07 California 0.6\n2016-08-04 02:11:19 California 1.0\n2016-08-04 02:11:29 Utah 1.23\n2016-08-04 02:12:10 Alaska 3.3\n2016-08-04 02:13:42 California 0.4\n2016-08-04 02:14:33 Alaska 2.1\n2016-08-04 02:20:40 California 0.09\n2016-08-04 02:21:09 California 0.6\n2016-08-04 02:22:15 Alaska 0.5\n2016-08-04 02:22:52 Alaska 2.5\n2016-08-04 02:23:06 California 0.3\n2016-08-04 02:25:06 Alaska 0.7\n2016-08-04 02:25:54 California 1.49\n2016-08-04 02:31:35 California 0.7\n2016-08-04 02:34:14 Alaska 1.2\n2016-08-04 02:34:56 California 0.4\n2016-08-04 02:35:45 California 0.1\n2016-08-04 02:36:34 California 1.53\n2016-08-04 02:37:10 Canada 1.5\n2016-08-04 02:40:07 California 2.21\n2016-08-04 02:40:18 Alaska 2.0\n2016-08-04 02:44:47 California 0.3\n2016-08-04 02:45:39 California 0.3\n2016-08-04 02:47:16 California 0.2\n2016-08-04 02:49:26 California 0.8\n2016-08-04 02:50:05 California 0.1\n2016-08-04 02:51:18 California 0.6\n2016-08-04 02:52:13 Alaska 0.9\n2016-08-04 02:53:06 California 0.5\n2016-08-04 02:56:29 Montana 0.33\n2016-08-04 02:59:35 California 0.3\n2016-08-04 03:01:04 California 0.6\n2016-08-04 03:03:06 California 0.4\n2016-08-04 03:11:47 California 0.7\n2016-08-04 03:13:40 California 0.2\n2016-08-04 03:20:16 California 0.72\n2016-08-04 03:23:12 California 0.3\n2016-08-04 03:27:30 Alaska 1.3\n2016-08-04 03:29:19 California 0.6\n2016-08-04 03:29:46 California 0.1\n2016-08-04 03:30:03 California 0.2\n2016-08-04 03:31:08 Alaska 1.1\n2016-08-04 03:31:31 California 0.4\n2016-08-04 03:33:59 California 0.5\n2016-08-04 03:35:51 California 0.3\n2016-08-04 03:38:15 California 0.1\n2016-08-04 03:38:18 California 1.09\n2016-08-04 03:39:06 Montana 1.08\n2016-08-04 03:42:16 California 0.2\n2016-08-04 03:49:23 California 0.5\n2016-08-04 03:50:05 California 0.22\n2016-08-04 03:59:35 California 0.55\n2016-08-04 04:01:26 Alaska 0.7\n2016-08-04 04:06:38 California 0.3\n2016-08-04 04:07:06 Hawaii 1.86\n2016-08-04 04:11:23 Alaska 1.5\n2016-08-04 04:12:35 California 0.5\n2016-08-04 04:21:12 California 0.2\n2016-08-04 04:24:45 California 0.57\n2016-08-04 04:25:22 California 1.08\n2016-08-04 04:28:12 California 0.7\n2016-08-04 04:30:13 California 0.1\n2016-08-04 04:31:45 California 0.1\n2016-08-04 04:33:54 California 0.9\n2016-08-04 04:34:06 Alaska 1.9\n2016-08-04 04:34:39 California 0.1\n2016-08-04 04:48:24 California 0.3\n2016-08-04 04:48:38 Alaska 1.2\n2016-08-04 04:52:58 California 0.8\n2016-08-04 04:55:02 California 1.24\n2016-08-04 05:01:21 Papua New Guinea 5.2\n2016-08-04 05:05:49 California 2.32\n2016-08-04 05:10:55 California 1.75\n2016-08-04 05:12:06 California 1.0\n2016-08-04 05:12:16 California 0.84\n2016-08-04 05:13:16 California 1.18\n2016-08-04 05:14:38 California 0.81\n2016-08-04 05:23:29 California 0.6\n2016-08-04 05:31:04 Puerto Rico 3.1\n2016-08-04 05:34:06 California 0.53\n2016-08-04 05:34:08 California 1.37\n2016-08-04 05:37:32 California 0.3\n2016-08-04 05:41:12 Nevada 0.7\n2016-08-04 05:45:49 California 0.89\n2016-08-04 05:46:17 California 0.6\n2016-08-04 05:51:52 California 0.9\n2016-08-04 05:55:51 Puerto Rico 1.7\n2016-08-04 05:57:39 California 0.6\n2016-08-04 06:00:27 Nevada 1.0\n2016-08-04 06:05:28 Alaska 2.0\n2016-08-04 06:10:36 Alaska 2.7\n2016-08-04 06:13:18 British Virgin Islands 2.2\n2016-08-04 06:13:52 California 3.31\n2016-08-04 06:16:15 Alaska 0.8\n2016-08-04 06:22:50 California 0.3\n2016-08-04 06:22:59 California 0.53\n2016-08-04 06:23:02 California 0.82\n2016-08-04 06:24:03 California 0.3\n2016-08-04 06:35:21 Alaska 2.1\n2016-08-04 06:36:23 California 1.45\n2016-08-04 06:38:01 California 0.4\n2016-08-04 06:38:13 Alaska 0.8\n2016-08-04 06:39:14 California 0.3\n2016-08-04 06:43:22 Alaska 1.4\n2016-08-04 06:57:21 Alaska 0.8\n2016-08-04 06:58:14 California 1.0\n2016-08-04 07:03:59 California 0.4\n2016-08-04 07:06:49 Dominican Republic 3.4\n2016-08-04 07:08:24 Mexico 3.17\n2016-08-04 07:15:00 Nevada 1.5\n2016-08-04 07:15:24 California 0.49\n2016-08-04 07:18:23 Alaska 0.9\n2016-08-04 07:25:09 California 1.5\n2016-08-04 07:27:12 California 1.11\n2016-08-04 07:30:31 California 1.82\n2016-08-04 07:31:16 Montana 0.32\n2016-08-04 07:37:10 Alaska 0.6\n2016-08-04 07:44:35 California 1.48\n2016-08-04 07:46:57 Alaska 0.8\n2016-08-04 07:49:45 Indonesia 4.8\n2016-08-04 07:59:16 Wyoming 1.59\n2016-08-04 08:00:00 Alaska 3.6\n2016-08-04 08:04:27 Nevada 0.7\n2016-08-04 08:18:52 California 0.34\n2016-08-04 08:21:01 California 0.8\n2016-08-04 08:25:36 California 0.55\n2016-08-04 08:29:02 California 1.52\n2016-08-04 08:31:04 California 0.5\n2016-08-04 08:40:03 Alaska 2.2\n2016-08-04 08:42:31 California 0.9\n2016-08-04 08:43:17 California 0.1\n2016-08-04 08:43:21 California 0.3\n2016-08-04 08:47:50 Alaska 1.1\n2016-08-04 08:50:00 California 0.47\n2016-08-04 08:51:36 Alaska 1.0\n2016-08-04 08:53:42 Nevada 2.7\n2016-08-04 08:53:50 California 2.36\n2016-08-04 08:53:54 California 0.91\n2016-08-04 08:54:46 Hawaii 0.9\n2016-08-04 09:01:02 Alaska 1.1\n2016-08-04 09:15:07 Alaska 2.2\n2016-08-04 09:15:17 California 1.28\n2016-08-04 09:16:39 California 0.3\n2016-08-04 09:18:13 Nevada 1.0\n2016-08-04 09:21:32 Nevada 1.5\n2016-08-04 09:30:11 California 0.86\n2016-08-04 09:35:06 California 0.3\n2016-08-04 09:36:41 California 0.6\n2016-08-04 09:39:18 California 1.26\n2016-08-04 09:39:27 California 1.21\n2016-08-04 09:39:35 California 0.05\n2016-08-04 09:46:39 Alaska 1.4\n2016-08-04 10:00:41 Nevada 0.3\n2016-08-04 10:07:19 Canada 0.8\n2016-08-04 10:09:37 California 0.6\n2016-08-04 10:13:51 Alaska 1.7\n2016-08-04 10:14:26 California 0.84\n2016-08-04 10:15:12 Argentina 6.2\n2016-08-04 10:15:55 Nevada 0.5\n2016-08-04 10:23:38 Alaska 0.3\n2016-08-04 10:26:19 California 2.08\n2016-08-04 10:37:42 California 0.51\n2016-08-04 10:48:22 Indonesia 4.5\n2016-08-04 10:51:51 Alaska 2.1\n2016-08-04 10:57:22 California 2.13\n2016-08-04 11:06:00 Northern Mariana Islands 4.4\n2016-08-04 11:06:32 Alaska 0.8\n2016-08-04 11:07:25 Nevada 0.9\n2016-08-04 11:11:50 Hawaii 1.74\n2016-08-04 11:17:15 Alaska 2.6\n2016-08-04 11:29:29 Alaska 1.7\n2016-08-04 11:32:15 California 0.2\n2016-08-04 11:36:25 California 1.14\n2016-08-04 11:39:31 California 1.11\n2016-08-04 11:40:30 Nevada 0.6\n2016-08-04 11:40:53 California 0.6\n2016-08-04 11:41:29 California 0.22\n2016-08-04 11:41:34 California 0.1\n2016-08-04 11:41:40 Nevada 0.7\n2016-08-04 11:42:19 Alaska 1.4\n2016-08-04 11:42:50 California 1.31\n2016-08-04 11:43:30 California 1.39\n2016-08-04 11:47:07 California 0.66\n2016-08-04 11:48:41 Alaska 1.5\n2016-08-04 11:53:52 California 1.06\n2016-08-04 11:55:23 California 2.05\n2016-08-04 11:58:02 California 0.89\n2016-08-04 12:00:31 Alaska 2.3\n2016-08-04 12:07:19 Nevada 1.0\n2016-08-04 12:10:07 Nevada 0.4\n2016-08-04 12:11:46 Alaska 1.1\n2016-08-04 12:13:31 California 0.71\n2016-08-04 12:20:50 Alaska 1.1\n2016-08-04 12:23:14 California 2.2\n2016-08-04 12:24:33 Japan 6.3\n2016-08-04 12:27:39 California 0.16\n2016-08-04 12:27:59 California 0.6\n2016-08-04 12:33:19 California 1.61\n2016-08-04 12:48:53 Alaska 1.3\n2016-08-04 13:01:44 Alaska 1.6\n2016-08-04 13:02:16 California 1.3\n2016-08-04 13:02:59 Alaska 1.6\n2016-08-04 13:15:18 California 1.54\n2016-08-04 13:19:15 California 0.2\n2016-08-04 13:20:43 Afghanistan 4.4\n2016-08-04 13:29:13 Nevada 0.5\n2016-08-04 13:29:58 Alaska 1.6\n2016-08-04 13:36:15 Nevada 0.3\n2016-08-04 13:36:47 California 1.68\n2016-08-04 14:00:53 Wyoming 0.93\n2016-08-04 14:04:36 Alaska 1.2\n2016-08-04 14:04:40 Nevada 0.4\n2016-08-04 14:13:57 Wyoming 0.94\n2016-08-04 14:19:59 California 0.2\n2016-08-04 14:21:27 California 1.93\n2016-08-04 14:28:59 Alaska 0.8\n2016-08-04 14:30:10 Nevada 0.5\n2016-08-04 14:35:37 California 0.3\n2016-08-04 14:39:19 Alaska 1.2\n2016-08-04 14:44:12 California 0.3\n2016-08-04 14:49:21 California 0.8\n2016-08-04 15:00:06 California 1.22\n2016-08-04 15:00:09 Alaska 1.2\n2016-08-04 15:00:26 California 1.4\n2016-08-04 15:14:47 Nevada 0.9\n2016-08-04 15:24:53 Alaska 1.8\n2016-08-04 15:26:16 Alaska 0.9\n2016-08-04 15:45:06 California 1.25\n2016-08-04 15:52:34 California 1.25\n2016-08-04 15:53:10 Nevada 0.5\n2016-08-04 15:58:14 California 1.74\n2016-08-04 16:09:34 Alaska 1.6\n2016-08-04 16:23:05 Alaska 1.2\n2016-08-04 16:24:31 California 0.65\n2016-08-04 16:32:59 California 0.77\n2016-08-04 16:33:04 California 0.67\n2016-08-04 16:45:16 California 0.74\n2016-08-04 16:49:31 Alaska 1.0\n2016-08-04 16:50:26 California 0.77\n2016-08-04 16:53:46 California 1.4\n2016-08-04 16:57:38 Alaska 1.2\n2016-08-04 16:58:24 Alaska 1.6\n2016-08-04 16:58:48 Alaska 0.7\n2016-08-04 17:00:34 California 1.11\n2016-08-04 17:01:52 Canada 1.96\n2016-08-04 17:02:10 Alaska 1.3\n2016-08-04 17:10:01 California 1.54\n2016-08-04 17:10:19 California 0.77\n2016-08-04 17:12:56 California 0.66\n2016-08-04 17:22:30 Alaska 1.2\n2016-08-04 17:29:14 California 1.22\n2016-08-04 17:29:23 California 1.26\n2016-08-04 17:30:10 California 1.4\n2016-08-04 17:31:22 California 1.53\n2016-08-04 17:34:41 Tajikistan 4.5\n2016-08-04 17:36:45 Tajikistan 4.4\n2016-08-04 17:51:31 Alaska 1.9\n2016-08-04 17:54:59 Tajikistan 4.4\n2016-08-04 18:15:24 Alaska 1.7\n2016-08-04 18:15:51 Canada 0.97\n2016-08-04 18:17:55 California 0.57\n2016-08-04 18:22:42 Nevada 0.8\n2016-08-04 18:27:36 South Georgia and the South Sandwich Islands 4.6\n2016-08-04 18:31:38 California 0.95\n2016-08-04 18:39:01 Canada 1.0\n2016-08-04 18:43:54 Mexico 1.99\n2016-08-04 18:51:05 Alaska 1.3\n2016-08-04 18:53:14 Alaska 1.1\n2016-08-04 19:00:14 California 0.82\n2016-08-04 19:05:35 Alaska 2.5\n2016-08-04 19:05:52 California 0.77\n2016-08-04 19:06:03 California 0.85\n2016-08-04 19:12:49 Alaska 1.3\n2016-08-04 19:13:50 Mexico 1.49\n2016-08-04 19:16:01 Nevada 0.5\n2016-08-04 19:20:35 Nevada 0.4\n2016-08-04 19:25:52 Alaska 1.4\n2016-08-04 19:34:48 Alaska 2.9\n2016-08-04 19:35:24 California 0.9\n2016-08-04 19:38:42 Montana 1.18\n2016-08-04 19:42:14 California 1.73\n2016-08-04 19:42:17 Tajikistan 4.7\n2016-08-04 19:50:18 California 0.22\n2016-08-04 19:53:43 Alaska 1.0\n2016-08-04 20:02:14 Philippines 4.4\n2016-08-04 20:13:07 Oklahoma 3.4\n2016-08-04 20:19:32 California 1.05\n2016-08-04 20:26:58 Alaska 1.0\n2016-08-04 20:30:19 Alaska 1.8\n2016-08-04 20:57:54 California 1.1\n2016-08-04 20:58:47 British Virgin Islands 2.0\n2016-08-04 21:00:31 Alaska 1.4\n2016-08-04 21:03:50 Vanuatu 4.6\n2016-08-04 21:03:56 British Virgin Islands 2.9\n2016-08-04 21:07:25 California 0.5\n2016-08-04 21:11:29 Utah 0.77\n2016-08-04 21:12:22 California 0.25\n2016-08-04 21:13:41 Puerto Rico 2.2\n2016-08-04 21:15:41 California 0.77\n2016-08-04 21:18:54 Alaska 2.4\n2016-08-04 21:28:43 California 0.7\n2016-08-04 21:32:17 Alaska 2.0\n2016-08-04 21:47:11 California 0.97\n2016-08-04 21:47:17 Alaska 2.2\n2016-08-04 21:52:00 California 1.12\n2016-08-04 21:52:01 California 1.68\n2016-08-04 21:52:45 California 1.18\n2016-08-04 21:54:10 California 1.43\n2016-08-04 21:56:01 California 1.43\n2016-08-04 22:02:28 California 0.65\n2016-08-04 22:05:04 California 1.1\n2016-08-04 22:06:25 California 0.2\n2016-08-04 22:07:36 Alaska 1.4\n2016-08-04 22:14:24 Alaska 2.7\n2016-08-04 22:18:10 Nevada 1.1\n2016-08-04 22:19:47 Alaska 1.0\n2016-08-04 22:21:46 California 0.9\n2016-08-04 22:29:59 California 1.2\n2016-08-04 22:33:43 California 0.38\n2016-08-04 22:56:03 Alaska 3.0\n2016-08-04 23:05:19 Nevada 0.9\n2016-08-04 23:05:45 Hawaii 1.07\n2016-08-04 23:28:40 Nevada 1.0\n2016-08-04 23:30:17 Wyoming 0.59\n2016-08-04 23:30:45 Japan 4.4\n2016-08-04 23:42:11 Nevada 0.2\n2016-08-04 23:44:35 East Timor 4.5\n2016-08-04 23:50:18 California 1.08\n2016-08-04 23:50:37 California 0.31\n2016-08-04 23:53:15 California 1.79\n2016-08-04 23:53:53 California 2.25\n2016-08-04 23:56:38 California 0.3\n2016-08-04 23:57:55 California 0.3\n"
     ]
    }
   ],
   "source": [
    "with open('earthquakes.csv', newline='') as csvfile:\n",
    "    reader = csv.reader(csvfile)\n",
    "    headers = reader.__next__()\n",
    "    #print(headers)\n",
    "    for row in reader:\n",
    "        #print(','.join(row))\n",
    "        magnitude = float(row[2])\n",
    "        location = row[9]\n",
    "        time = datetime.fromisoformat(row[12])\n",
    "        if (time >= datetime.fromisoformat('2016-08-04') \n",
    "            and time < datetime.fromisoformat('2016-08-05')):\n",
    "            print(time, location, magnitude)"
   ]
  },
  {
   "source": [
    "# Issue: Not sure how to count the rows. Didn't find an easy way to save the April output as a a new dataframe that I could then find the length of."
   ],
   "cell_type": "markdown",
   "metadata": {}
  }
 ]
}