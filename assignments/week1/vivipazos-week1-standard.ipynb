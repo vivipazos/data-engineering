{
 "metadata": {
  "language_info": {
   "codemirror_mode": {
    "name": "ipython",
    "version": 3
   },
   "file_extension": ".py",
   "mimetype": "text/x-python",
   "name": "python",
   "nbconvert_exporter": "python",
   "pygments_lexer": "ipython3",
   "version": "3.8.3-final"
  },
  "orig_nbformat": 2,
  "kernelspec": {
   "name": "Python 3.8.3 64-bit ('anaconda3': virtualenv)",
   "display_name": "Python 3.8.3 64-bit ('anaconda3': virtualenv)",
   "metadata": {
    "interpreter": {
     "hash": "dca0ade3e726a953b501b15e8e990130d2b7799f14cfd9f4271676035ebe5511"
    }
   }
  }
 },
 "nbformat": 4,
 "nbformat_minor": 2,
 "cells": [
  {
   "source": [
    "# Week 1: Import CSV with standard library\n",
    "\n",
    "<style type=\"text/css\">\n",
    ".border {\n",
    "    display: inline-block;\n",
    "    border: solid 1px rgba(204, 204, 204, 0.4);\n",
    "    border-bottom-color: rgba(187, 187, 187, 0.4);\n",
    "    border-radius: 3px;\n",
    "    box-shadow: inset 0 -1px 0 rgba(187, 187, 187, 0.4);\n",
    "    background-color: inherit !important;\n",
    "    vertical-align: middle;\n",
    "    color: inherit !important;\n",
    "    font-size: 11px;\n",
    "    padding: 3px 5px;\n",
    "    margin: 0 2px;\n",
    "        }\n",
    "</style>\n",
    "\n",
    "1. <p>Challenge 1: Print out times, places and magnitude of earthquakes that were 6 or higher.</p>\n",
    "\n",
    "2. <p>Challenge 2: List earthquakes that happend on '2016-08-04'</p>\n"
   ],
   "cell_type": "markdown",
   "metadata": {}
  },
  {
   "source": [
    "import csv    "
   ],
   "cell_type": "code",
   "metadata": {},
   "execution_count": 5,
   "outputs": []
  },
  {
   "source": [
    "#Challenge 1"
   ],
   "cell_type": "markdown",
   "metadata": {}
  },
  {
   "cell_type": "code",
   "execution_count": 9,
   "metadata": {
    "tags": []
   },
   "outputs": [
    {
     "output_type": "stream",
     "name": "stdout",
     "text": [
      "7.7 Northern Mariana Islands 2016-07-29 17:18:26\n6.1 South Indian Ocean 2016-08-01 03:42:50\n6.2 Argentina 2016-08-04 10:15:12\n6.3 Japan 2016-08-04 12:24:33\n7.2 New Caledonia 2016-08-11 21:26:35\n6.2 South of the Fiji Islands 2016-08-11 23:29:33\n7.4 South Georgia Island region 2016-08-19 03:32:22\n6.4 South Georgia Island region 2016-08-20 23:45:23\n6.2 Italy 2016-08-23 21:36:33\n6.8 Burma 2016-08-24 06:34:55\n"
     ]
    }
   ],
   "source": [
    "with open('earthquakes.csv', newline='') as csvfile:\n",
    "    reader = csv.reader(csvfile)\n",
    "    headers = reader.__next__()\n",
    "    #print(headers)\n",
    "    for row in reader:\n",
    "        #print(','.join(row))\n",
    "        magnitude = float(row[2])\n",
    "        location = row[9]\n",
    "        time = datetime.fromisoformat(row[12])\n",
    "        if magnitude > 6:\n",
    "            print(magnitude, location, time)"
   ]
  },
  {
   "source": [
    "#Challenge 2"
   ],
   "cell_type": "markdown",
   "metadata": {}
  },
  {
   "source": [
    "from datetime import datetime"
   ],
   "cell_type": "code",
   "metadata": {},
   "execution_count": 7,
   "outputs": []
  },
  {
   "cell_type": "code",
   "execution_count": 51,
   "metadata": {
    "tags": []
   },
   "outputs": [
    {
     "output_type": "stream",
     "name": "stdout",
     "text": [
      "California\nAlaska\nHawaii\nCalifornia\nAlaska\nCalifornia\nCalifornia\nAlaska\nCalifornia\nAlaska\nAlaska\nHawaii\nAlaska\nCalifornia\nCalifornia\nAlaska\nUtah\nCalifornia\nCalifornia\nCalifornia\nCalifornia\nAlaska\nCalifornia\nCalifornia\nCalifornia\nCalifornia\nCalifornia\nCalifornia\nCalifornia\nCalifornia\nCalifornia\nCalifornia\nCalifornia\nAlaska\nCalifornia\nCalifornia\nCalifornia\nCalifornia\nCalifornia\nCalifornia\nCalifornia\nCalifornia\nCalifornia\nCalifornia\nCalifornia\nCalifornia\nCalifornia\nCalifornia\nCalifornia\nCalifornia\nCalifornia\nCalifornia\nAlaska\nCalifornia\nAlaska\nCalifornia\nCalifornia\nCalifornia\nCalifornia\nCalifornia\nCalifornia\nCalifornia\nCalifornia\nCalifornia\nCalifornia\nCalifornia\nCalifornia\nCalifornia\nCalifornia\nCalifornia\nAlaska\nCalifornia\nCalifornia\nCalifornia\nCalifornia\nCalifornia\nCalifornia\nCalifornia\nAlaska\nNicaragua\nCalifornia\nCalifornia\nCalifornia\nAlaska\nCalifornia\nCalifornia\nAlaska\nCalifornia\nCalifornia\nUtah\nAlaska\nCalifornia\nAlaska\nCalifornia\nCalifornia\nAlaska\nAlaska\nCalifornia\nAlaska\nCalifornia\nCalifornia\nAlaska\nCalifornia\nCalifornia\nCalifornia\nCanada\nCalifornia\nAlaska\nCalifornia\nCalifornia\nCalifornia\nCalifornia\nCalifornia\nCalifornia\nAlaska\nCalifornia\nMontana\nCalifornia\nCalifornia\nCalifornia\nCalifornia\nCalifornia\nCalifornia\nCalifornia\nAlaska\nCalifornia\nCalifornia\nCalifornia\nAlaska\nCalifornia\nCalifornia\nCalifornia\nCalifornia\nCalifornia\nMontana\nCalifornia\nCalifornia\nCalifornia\nCalifornia\nAlaska\nCalifornia\nHawaii\nAlaska\nCalifornia\nCalifornia\nCalifornia\nCalifornia\nCalifornia\nCalifornia\nCalifornia\nCalifornia\nAlaska\nCalifornia\nCalifornia\nAlaska\nCalifornia\nCalifornia\nPapua New Guinea\nCalifornia\nCalifornia\nCalifornia\nCalifornia\nCalifornia\nCalifornia\nCalifornia\nPuerto Rico\nCalifornia\nCalifornia\nCalifornia\nNevada\nCalifornia\nCalifornia\nCalifornia\nPuerto Rico\nCalifornia\nNevada\nAlaska\nAlaska\nBritish Virgin Islands\nCalifornia\nAlaska\nCalifornia\nCalifornia\nCalifornia\nCalifornia\nAlaska\nCalifornia\nCalifornia\nAlaska\nCalifornia\nAlaska\nAlaska\nCalifornia\nCalifornia\nDominican Republic\nMexico\nNevada\nCalifornia\nAlaska\nCalifornia\nCalifornia\nCalifornia\nMontana\nAlaska\nCalifornia\nAlaska\nIndonesia\nWyoming\nAlaska\nNevada\nCalifornia\nCalifornia\nCalifornia\nCalifornia\nCalifornia\nAlaska\nCalifornia\nCalifornia\nCalifornia\nAlaska\nCalifornia\nAlaska\nNevada\nCalifornia\nCalifornia\nHawaii\nAlaska\nAlaska\nCalifornia\nCalifornia\nNevada\nNevada\nCalifornia\nCalifornia\nCalifornia\nCalifornia\nCalifornia\nCalifornia\nAlaska\nNevada\nCanada\nCalifornia\nAlaska\nCalifornia\nArgentina\nNevada\nAlaska\nCalifornia\nCalifornia\nIndonesia\nAlaska\nCalifornia\nNorthern Mariana Islands\nAlaska\nNevada\nHawaii\nAlaska\nAlaska\nCalifornia\nCalifornia\nCalifornia\nNevada\nCalifornia\nCalifornia\nCalifornia\nNevada\nAlaska\nCalifornia\nCalifornia\nCalifornia\nAlaska\nCalifornia\nCalifornia\nCalifornia\nAlaska\nNevada\nNevada\nAlaska\nCalifornia\nAlaska\nCalifornia\nJapan\nCalifornia\nCalifornia\nCalifornia\nAlaska\nAlaska\nCalifornia\nAlaska\nCalifornia\nCalifornia\nAfghanistan\nNevada\nAlaska\nNevada\nCalifornia\nWyoming\nAlaska\nNevada\nWyoming\nCalifornia\nCalifornia\nAlaska\nNevada\nCalifornia\nAlaska\nCalifornia\nCalifornia\nCalifornia\nAlaska\nCalifornia\nNevada\nAlaska\nAlaska\nCalifornia\nCalifornia\nNevada\nCalifornia\nAlaska\nAlaska\nCalifornia\nCalifornia\nCalifornia\nCalifornia\nAlaska\nCalifornia\nCalifornia\nAlaska\nAlaska\nAlaska\nCalifornia\nCanada\nAlaska\nCalifornia\nCalifornia\nCalifornia\nAlaska\nCalifornia\nCalifornia\nCalifornia\nCalifornia\nTajikistan\nTajikistan\nAlaska\nTajikistan\nAlaska\nCanada\nCalifornia\nNevada\nSouth Georgia and the South Sandwich Islands\nCalifornia\nCanada\nMexico\nAlaska\nAlaska\nCalifornia\nAlaska\nCalifornia\nCalifornia\nAlaska\nMexico\nNevada\nNevada\nAlaska\nAlaska\nCalifornia\nMontana\nCalifornia\nTajikistan\nCalifornia\nAlaska\nPhilippines\nOklahoma\nCalifornia\nAlaska\nAlaska\nCalifornia\nBritish Virgin Islands\nAlaska\nVanuatu\nBritish Virgin Islands\nCalifornia\nUtah\nCalifornia\nPuerto Rico\nCalifornia\nAlaska\nCalifornia\nAlaska\nCalifornia\nAlaska\nCalifornia\nCalifornia\nCalifornia\nCalifornia\nCalifornia\nCalifornia\nCalifornia\nCalifornia\nAlaska\nAlaska\nNevada\nAlaska\nCalifornia\nCalifornia\nCalifornia\nAlaska\nNevada\nHawaii\nNevada\nWyoming\nJapan\nNevada\nEast Timor\nCalifornia\nCalifornia\nCalifornia\nCalifornia\nCalifornia\nCalifornia\n"
     ]
    }
   ],
   "source": [
    "with open('earthquakes.csv', newline='') as csvfile:\n",
    "    reader = csv.reader(csvfile)\n",
    "    headers = reader.__next__()\n",
    "    #print(headers)\n",
    "    for row in reader:\n",
    "        #print(','.join(row))\n",
    "        magnitude = float(row[2])\n",
    "        location = row[9]\n",
    "        time = datetime.fromisoformat(row[12])\n",
    "        if (time >= datetime.fromisoformat('2016-08-04') \n",
    "            and time < datetime.fromisoformat('2016-08-05')):\n",
    "            print(''.join(location))"
   ]
  },
  {
   "source": [
    "# Issue: Not sure how to count the rows. Didn't find an easy way to save the April output as a a new dataframe that I could then find the length of."
   ],
   "cell_type": "markdown",
   "metadata": {}
  }
 ]
}